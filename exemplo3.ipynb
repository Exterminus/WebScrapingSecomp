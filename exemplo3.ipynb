{
 "cells": [
  {
   "cell_type": "markdown",
   "metadata": {},
   "source": [
    "Coletando os dados dos professores do dcomp.\n",
    "Lembre-se de usar o inspecionar elementos..."
   ]
  },
  {
   "cell_type": "code",
   "execution_count": 1,
   "metadata": {},
   "outputs": [],
   "source": [
    "# encoding: utf-8\n",
    "import requests\n",
    "from bs4 import BeautifulSoup\n"
   ]
  },
  {
   "cell_type": "code",
   "execution_count": 2,
   "metadata": {},
   "outputs": [],
   "source": [
    "site= requests.get(\"http://dcomp.ufsj.edu.br/pessoas/professores/\")"
   ]
  },
  {
   "cell_type": "code",
   "execution_count": 3,
   "metadata": {},
   "outputs": [
    {
     "name": "stdout",
     "output_type": "stream",
     "text": [
      "UTF-8\n"
     ]
    }
   ],
   "source": [
    "print(site.encoding)"
   ]
  },
  {
   "cell_type": "code",
   "execution_count": 4,
   "metadata": {},
   "outputs": [],
   "source": [
    "soup=BeautifulSoup(site.text,\"lxml\")"
   ]
  },
  {
   "cell_type": "markdown",
   "metadata": {},
   "source": [
    "Aqui foi usado algo novo... combinamos o findAll com uma pesquisa personalizada por uma determinada classe."
   ]
  },
  {
   "cell_type": "code",
   "execution_count": 5,
   "metadata": {},
   "outputs": [
    {
     "name": "stdout",
     "output_type": "stream",
     "text": [
      "('Total de Professores:', 22)\n"
     ]
    }
   ],
   "source": [
    "corpo=soup.find_all(\"div\",{\"class\":\"profile-entry\"})\n",
    "print(\"Total de Professores:\",len(corpo))\n"
   ]
  },
  {
   "cell_type": "code",
   "execution_count": null,
   "metadata": {},
   "outputs": [],
   "source": [
    "print(corpo)"
   ]
  },
  {
   "cell_type": "markdown",
   "metadata": {},
   "source": [
    "Agora vamos melhorar a visualização."
   ]
  },
  {
   "cell_type": "code",
   "execution_count": 11,
   "metadata": {},
   "outputs": [
    {
     "name": "stdout",
     "output_type": "stream",
     "text": [
      "Professor: Alexandre Bittencourt Pigozzo\n",
      "Área de pesquisa: Modelagem matemática e computacional do sistema imune inato, Modelagem da formação de abscessos. Programação paralela.\n",
      "Lattes: http://lattes.cnpq.br/0417643355061928\n",
      "-------\n",
      "Professor: Carolina Ribeiro Xavier\n",
      "Área de pesquisa: Modelagem matemática; Computação de alto desempenho; Metaheurísticas; Mineração de dados não estruturados.\n",
      "Lattes: http://lattes.cnpq.br/8753324796035314\n",
      "-------\n",
      "Professor: Charles Figueredo de Barros\n",
      "Área de pesquisa: Criptografia; Computação Quântica.\n",
      "Lattes: http://lattes.cnpq.br/1853606206364277\n",
      "-------\n",
      "Professor: Daniel Ludovico Guidoni\n",
      "Área de pesquisa: Algoritmos Distribuídos; Redes de Sensores Sem Fio;Redes Complexas.\n",
      "Lattes: http://lattes.cnpq.br/7122552927617910\n",
      "-------\n",
      "Professor: Daniel Luiz Alves Madeira\n",
      "Área de pesquisa: Computação Gráfica; Processamento de Imagens; GPU Computing.\n",
      "Lattes: http://lattes.cnpq.br/9008874591803631\n",
      "-------\n",
      "Professor: Dárlinton Barbosa Feres Carvalho\n",
      "Área de pesquisa: Ciência da Web, Engenharia de Software, Desenvolvimento de TICs aplicadas em saúde\n",
      "Lattes: http://lattes.cnpq.br/6370159758529146\n",
      "-------\n",
      "Professor: Diego Roberto Colombo Dias\n",
      "Área de pesquisa: Laboratório de Visualização Imersiva, Interativa e Colaborativa (LaVIIC), Realidade Virtual, Sistemas de Multiprojeção e Aglomerados Gráficos Distribuídos.\n",
      "Lattes: http://lattes.cnpq.br/0338180908110992\n",
      "-------\n",
      "Professor: Edimilson Batista dos Santos\n",
      "Área de pesquisa: Inteligência Artificial; Sistemas Inteligentes; Aprendizado de Máquinas; Modelos Gráficos Probabilísticos.\n",
      "Lattes: http://buscatextual.cnpq.br/buscatextual/visualizacv.do?metodo=apresentar&id=K4737414Y5\n",
      "-------\n",
      "Professor: Elder José Reioli Cirilo\n",
      "Área de pesquisa: Engenharia de Software.\n",
      "Lattes: http://buscatextual.cnpq.br/buscatextual/visualizacv.do?id=W605735\n",
      "-------\n",
      "Professor: Elisa Tuler de Albergaria\n",
      "Área de pesquisa: Interação Homem-Computador; Engenharia de Usabilidade, Engenharia de Software; Gestão de Projetos.\n",
      "Lattes: http://lattes.cnpq.br/3705229119174252\n",
      "-------\n",
      "Professor: Elverton Carvalho Fazzion\n",
      "Área de pesquisa: Medição da Internet; Segurança Digital; Arquitetura de Sistemas de Computação.\n",
      "Lattes: http://lattes.cnpq.br/2727534546490307\n",
      "-------\n",
      "Professor: Fernanda Sumika Hojo de Souza\n",
      "Área de pesquisa: Otimização Combinatória, Programação Matemática, Redes e Telecomunicações\n",
      "Lattes: http://lattes.cnpq.br/4753402114906101\n",
      "-------\n",
      "Professor: Flávio Luiz Schiavoni\n",
      "Área de pesquisa: Computação Musical, Compiladores e Sistemas Distribuídos.\n",
      "Lattes: http://buscatextual.cnpq.br/buscatextual/visualizacv.do?id=K4764419H1\n",
      "-------\n",
      "Professor: Leonardo Chaves Dutra da Rocha\n",
      "Área de pesquisa: Banco de Dados, Mineração de Dados, Recuperação de Informação; Comércio Eletrônico.\n",
      "Lattes: http://lattes.cnpq.br/8074447921818504\n",
      "-------\n",
      "Professor: Marcos Antonio de Matos Laia\n",
      "Área de pesquisa: Processamento de imagens e sinais, visão computacional e sistemas embarcados.\n",
      "Lattes: http://buscatextual.cnpq.br/buscatextual/visualizacv.do?id=K4742936J5\n",
      "-------\n",
      "Professor: Matheus Carvalho Viana\n",
      "Área de pesquisa: Engenharia de software, engenharia dirigida por modelos, linguagens específicas de domínio, geração de código e linhas de produto de software.\n",
      "Lattes: http://lattes.cnpq.br/0839323666578855\n",
      "-------\n",
      "Professor: Michelli Marlane Silva Loureiro\n",
      "Área de pesquisa: Modelagem Computacional, Otimização com Algoritmos Genéticos e Métodos Numéricos.\n",
      "Lattes: http://buscatextual.cnpq.br/buscatextual/visualizacv.do?id=K4295505E1\n",
      "-------\n",
      "Professor: Milene Barbosa Carvalho\n",
      "Área de pesquisa: Arquitetura de Computadores; Computação Reconfigurável.\n",
      "Lattes: http://buscatextual.cnpq.br/buscatextual/visualizacv.do?metodo=apresentar&id=K4739998H1\n",
      "-------\n",
      "Professor: Rafael Sachetto Oliveira\n",
      "Área de pesquisa: Computação de alto desempenho; Redes; Modelagem Computacional.\n",
      "Lattes: http://lattes.cnpq.br/5509401058975677\n",
      "-------\n",
      "Professor: Sofia Larissa da Costa\n",
      "Área de pesquisa: Teste Baseado em Modelos; Modelagem e Desenvolvimento de Aplicações Web; Desenvolvimento Baseado em Modelos e Usabilidade.\n",
      "Lattes: http://lattes.cnpq.br/6389879317105663\n",
      "-------\n",
      "Professor: Vinícius da Fonseca Vieira\n",
      "Área de pesquisa: Modelos de Dados; Computação de Alto Desempenho; Redes Complexas.\n",
      "Lattes: http://lattes.cnpq.br/6388210976465568\n",
      "-------\n",
      "Professor: Vinícius Humberto Serapilha Durelli\n",
      "Área de pesquisa: Teste de Software; Engenharia de Software Experimental;\n",
      "Lattes: http://lattes.cnpq.br/8816910024419957\n",
      "-------\n"
     ]
    }
   ],
   "source": [
    "for i in corpo:\n",
    "    print \"Professor:\",i.h1.text\n",
    "    print \"Área de pesquisa:\",i.findAll(\"p\")[2].text\n",
    "    print \"Lattes:\",i.findAll(\"a\")[-1]['href']\n",
    "    print(\"-------\")"
   ]
  }
 ],
 "metadata": {
  "kernelspec": {
   "display_name": "Python 2",
   "language": "python",
   "name": "python2"
  },
  "language_info": {
   "codemirror_mode": {
    "name": "ipython",
    "version": 2
   },
   "file_extension": ".py",
   "mimetype": "text/x-python",
   "name": "python",
   "nbconvert_exporter": "python",
   "pygments_lexer": "ipython2",
   "version": "2.7.15rc1"
  }
 },
 "nbformat": 4,
 "nbformat_minor": 2
}
