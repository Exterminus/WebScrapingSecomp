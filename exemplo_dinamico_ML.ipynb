{
 "cells": [
  {
   "cell_type": "markdown",
   "metadata": {},
   "source": [
    "** Coletor de Preços do Mercado Livre\n",
    "Descubra a faixa de preço para vender o seu produto, entenda os seus concorrentes."
   ]
  },
  {
   "cell_type": "code",
   "execution_count": null,
   "metadata": {},
   "outputs": [],
   "source": [
    "import time\n",
    "from bs4 import BeautifulSoup"
   ]
  },
  {
   "cell_type": "code",
   "execution_count": null,
   "metadata": {},
   "outputs": [],
   "source": [
    "from selenium import webdriver\n",
    "from selenium.webdriver.firefox.options import Options\n",
    "from selenium.webdriver.common.keys import Keys"
   ]
  },
  {
   "cell_type": "code",
   "execution_count": null,
   "metadata": {},
   "outputs": [],
   "source": [
    "# é utilizado para fazer uma breve análise\n",
    "import collections"
   ]
  },
  {
   "cell_type": "code",
   "execution_count": null,
   "metadata": {},
   "outputs": [],
   "source": [
    "site=\"https://www.mercadolivre.com.br/\""
   ]
  },
  {
   "cell_type": "code",
   "execution_count": null,
   "metadata": {},
   "outputs": [],
   "source": [
    "produto_alvo=\"ssd 120gb\""
   ]
  },
  {
   "cell_type": "code",
   "execution_count": null,
   "metadata": {},
   "outputs": [],
   "source": [
    "options = Options()\n",
    "options.set_headless(headless=True)\n",
    "navegador = webdriver.Firefox(firefox_options=options)\n",
    "#navegador = webdriver.Firefox()\n",
    "navegador.get(site)"
   ]
  },
  {
   "cell_type": "code",
   "execution_count": null,
   "metadata": {},
   "outputs": [],
   "source": [
    "time.sleep(5)"
   ]
  },
  {
   "cell_type": "code",
   "execution_count": null,
   "metadata": {},
   "outputs": [],
   "source": [
    "campo_busca=navegador.find_element_by_class_name(\"nav-search-input\")"
   ]
  },
  {
   "cell_type": "code",
   "execution_count": null,
   "metadata": {},
   "outputs": [],
   "source": [
    "campo_busca.send_keys(produto_alvo)"
   ]
  },
  {
   "cell_type": "code",
   "execution_count": null,
   "metadata": {},
   "outputs": [],
   "source": [
    "campo_busca.send_keys(Keys.ENTER)"
   ]
  },
  {
   "cell_type": "code",
   "execution_count": null,
   "metadata": {},
   "outputs": [],
   "source": [
    "time.sleep(5)"
   ]
  },
  {
   "cell_type": "code",
   "execution_count": null,
   "metadata": {},
   "outputs": [],
   "source": [
    "lista_produtos=navegador.find_element_by_id(\"searchResults\")"
   ]
  },
  {
   "cell_type": "code",
   "execution_count": null,
   "metadata": {},
   "outputs": [],
   "source": [
    "html = lista_produtos.get_attribute('innerHTML')"
   ]
  },
  {
   "cell_type": "code",
   "execution_count": null,
   "metadata": {},
   "outputs": [],
   "source": [
    "soup = BeautifulSoup(html,\"html.parser\")"
   ]
  },
  {
   "cell_type": "code",
   "execution_count": null,
   "metadata": {},
   "outputs": [],
   "source": [
    "lista_produtos= soup.findAll(\"div\",{\"class\":\"rowItem item item--grid item--has-row-logo new with-reviews \"})\n",
    "print len(lista_produtos)"
   ]
  },
  {
   "cell_type": "code",
   "execution_count": null,
   "metadata": {},
   "outputs": [],
   "source": [
    "lista_precos=[]\n",
    "for produto in lista_produtos:\n",
    "    reais=produto.findAll(\"span\",{\"class\":\"price__fraction\"})\n",
    "    centavos=produto.findAll(\"span\",{\"class\":\"price__decimals\"})\n",
    "    if(centavos):\n",
    "        centavos=float(centavos[0].text)/100.0\n",
    "        final=float(reais[0].text)+centavos\n",
    "        #print final\n",
    "        lista_precos.append(final)\n",
    "    else:\n",
    "        lista_precos.append(float(reais[0].text))"
   ]
  },
  {
   "cell_type": "code",
   "execution_count": null,
   "metadata": {},
   "outputs": [],
   "source": [
    "print \"Maior Preço: R$\",max(lista_precos)\n",
    "print \"Menor Preço: R$\",min(lista_precos)\n",
    "print \"Preço Médio: R$\",sum(lista_precos)/len(lista_precos)"
   ]
  },
  {
   "cell_type": "code",
   "execution_count": null,
   "metadata": {},
   "outputs": [],
   "source": [
    "produtos_vendidos=soup.findAll(\"div\",{\"class\":\"item__condition\"})\n",
    "total_vendidos=0\n",
    "lista_origem=[]\n",
    "for vendas in produtos_vendidos:\n",
    "    venda=vendas.text.split(\"-\")\n",
    "    #print venda\n",
    "    try:\n",
    "        #ignora os produtos usados..\n",
    "        total_vendidos+=int(venda[0].split(\" \")[1])\n",
    "        origem=venda[1]\n",
    "        lista_origem.append(origem)\n",
    "    except Exception as e:\n",
    "        pass\n",
    "    \n",
    "\n",
    "counter=collections.Counter(lista_origem)\n",
    "origens=counter.most_common(2)\n",
    "print \"Número de Vendas:\",total_vendidos\n",
    "print \"Origem dos produtos:\"\n",
    "for i in origens:\n",
    "    print \"Origem:\",i[0],\"Número de vendedores:\",i[1]"
   ]
  }
 ],
 "metadata": {
  "kernelspec": {
   "display_name": "Python 2",
   "language": "python",
   "name": "python2"
  },
  "language_info": {
   "codemirror_mode": {
    "name": "ipython",
    "version": 2
   },
   "file_extension": ".py",
   "mimetype": "text/x-python",
   "name": "python",
   "nbconvert_exporter": "python",
   "pygments_lexer": "ipython2",
   "version": "2.7.15rc1"
  }
 },
 "nbformat": 4,
 "nbformat_minor": 2
}
