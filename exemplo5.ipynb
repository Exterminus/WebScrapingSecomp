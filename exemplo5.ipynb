{
 "cells": [
  {
   "cell_type": "markdown",
   "metadata": {},
   "source": [
    "Agora vamos trabalhar com Selenium e usar um User-Agent.\n",
    "O segredo é usar o inspecionar elementos.."
   ]
  },
  {
   "cell_type": "code",
   "execution_count": 1,
   "metadata": {},
   "outputs": [],
   "source": [
    "from bs4 import BeautifulSoup\n",
    "import requests"
   ]
  },
  {
   "cell_type": "markdown",
   "metadata": {},
   "source": [
    "Aqui entra a novidade, vamos carregar a biblioteca selenium."
   ]
  },
  {
   "cell_type": "code",
   "execution_count": 2,
   "metadata": {},
   "outputs": [],
   "source": [
    "# o site que queremos crawlear é um site de legendas gratuitas..\n",
    "site_alvo=\"http://legendas.tv/legendas/-/d/1\""
   ]
  },
  {
   "cell_type": "code",
   "execution_count": 3,
   "metadata": {},
   "outputs": [],
   "source": [
    "headers = {'User-Agent': 'Mozilla/5.0 (Macintosh; Intel Mac OS X 10_11_5) AppleWebKit/537.36 (KHTML, like Gecko) Chrome/50.0.2661.102 Safari/537.36'}"
   ]
  },
  {
   "cell_type": "code",
   "execution_count": 6,
   "metadata": {},
   "outputs": [],
   "source": [
    "dados=requests.get(site_alvo,headers=headers)\n",
    "#print dados.text"
   ]
  },
  {
   "cell_type": "code",
   "execution_count": 7,
   "metadata": {},
   "outputs": [],
   "source": [
    "#destaques = navegador.find_elements_by_class_name('destaque')\n",
    "soup=BeautifulSoup(dados.content,\"html.parser\")"
   ]
  },
  {
   "cell_type": "code",
   "execution_count": 24,
   "metadata": {},
   "outputs": [],
   "source": [
    "destaques=soup.find_all(\"div\",{\"class\":\"destaque\"})\n"
   ]
  },
  {
   "cell_type": "code",
   "execution_count": 23,
   "metadata": {},
   "outputs": [
    {
     "name": "stdout",
     "output_type": "stream",
     "text": [
      "Legenda: Safe.Harbour.S01E02.HDTV.x264-W4F-TBS\n",
      "Detalhes: 112 downloads, nota 10, enviado por UnitedTeam em 10/09/2018 - 13:56 \n",
      "Legenda: Newton.2017.[ BluRay + BRRip + BDRip ]\n",
      "Detalhes: 127 downloads, nota 10, enviado por art_subs em 10/09/2018 - 11:19 \n",
      "Legenda: Take.Two.S01E12.HDTV.x264-KILLERS-ION10-BAMBOOZLE-NTb\n",
      "Detalhes: 641 downloads, nota 10, enviado por Geeksubs em 09/09/2018 - 16:22 \n",
      "Legenda: UnREAL.S04E08.WEB.h264-TBS\n",
      "Detalhes: 436 downloads, nota 10, enviado por EnjoyTeam em 08/09/2018 - 20:30 \n",
      "Legenda: Burning.(Beoning).2018.720p.HDRip.x264.AAC.HORiZON-ArtSubs + FHDRip\n",
      "Detalhes: 651 downloads, nota 10, enviado por art_subs em 08/09/2018 - 18:18 \n",
      "Legenda: Summer.of.84.2018.WEB-DL + WEBRip\n",
      "Detalhes: 1841 downloads, nota 10, enviado por inSanos em 08/09/2018 - 14:49 \n",
      "Legenda: Ideal.Home.2018.BluRay.BDRip.BRRip\n",
      "Detalhes: 459 downloads, nota 10, enviado por inSanos em 08/09/2018 - 13:17 \n",
      "Legenda: Mr.Mercedes.S02E03.WEBRip.x264-ION10-NTb-aAF\n",
      "Detalhes: 1084 downloads, nota 10, enviado por LegendasEmSerie em 08/09/2018 - 11:34 \n",
      "Legenda: La.Porta.Rossa.S01E04.720p.HDTV.x264-DoKtor\n",
      "Detalhes: 470 downloads, nota 10, enviado por drcaio em 07/09/2018 - 20:14 \n",
      "Legenda: The.Sinner.S02E06.WEB.x264-KILLERS-BAMBOOZLE-TBS-AFG-ION10-NTb\n",
      "Detalhes: 2678 downloads, nota 10, enviado por creepysubs em 07/09/2018 - 18:10 \n",
      "Legenda: Killjoys.S04E07.HDTV.x264-SVA-AVS-AFG-mSD-mSD-Mobile-KiNGS-ION10-iNTERNAL-BAMBOOZLE-MeGusta\n",
      "Detalhes: 864 downloads, nota 10, enviado por inSanos em 07/09/2018 - 16:15 \n",
      "Legenda: Minutes.Past.Midnight.2016.BDRip.x264-VoMiT-RARBG-MkvCage-SADPANDA-WWRG\n",
      "Detalhes: 720 downloads, nota 10, enviado por WTFSubs em 07/09/2018 - 15:42 \n",
      "Legenda: The.Fortress.2017.ORIGINAL.1080p.BRRip.x264.AC3.HORiZON-ArtSubs + BluRay + BRRip\n",
      "Detalhes: 368 downloads, nota 10, enviado por art_subs em 07/09/2018 - 02:24 \n",
      "Legenda: Bodyguard.S01E03.HDTV.x264-KETTLE-MTB-AFG-mSD-Mobile-MeGusta-NTb-ION10\n",
      "Detalhes: 1177 downloads, nota 10, enviado por AceSubs em 07/09/2018 - 01:00 \n",
      "Legenda: The.Purge.S01E01.HDTV.x264-SVA-AFG-BAMBOOZLE-TBS-ION10-KiNGS\n",
      "Detalhes: 3268 downloads, nota 10, enviado por creepysubs em 06/09/2018 - 23:31 \n",
      "Legenda: Castle.Rock.S01E09.WEB-DL.x264-ION10-BTW-NTb\n",
      "Detalhes: 4587 downloads, nota 10, enviado por creepysubs em 06/09/2018 - 21:48 \n",
      "Legenda: Wrecked.S03E05.WEBRip.x264-TBS-MiNDTHEGAP\n",
      "Detalhes: 460 downloads, nota 10, enviado por TheMarines em 06/09/2018 - 14:41 \n",
      "Legenda: Salvation.S02E11.HDTV.x264-KILLERS-AFG-ION10-PSA-NTb-BAMBOOZLE-TBS\n",
      "Detalhes: 1908 downloads, nota 10, enviado por QueensOfTheLab em 06/09/2018 - 03:18 \n",
      "Legenda: Beauty.Mark.2017.WEBRip.x264-ION10-NTG\n",
      "Detalhes: 480 downloads, nota 10, enviado por Maniacs em 06/09/2018 - 02:56 \n",
      "Legenda: Jurassic.World.Fallen.Kingdom.2018.BluRay + WEB-DL + WEBRip\n",
      "Detalhes: 13294 downloads, nota 10, enviado por inSanos em 06/09/2018 - 01:00 \n",
      "Legenda: Gone.S01E06.WEB-ION10-KiNGS\n",
      "Detalhes: 918 downloads, nota 10, enviado por crimesubs em 05/09/2018 - 23:55 \n",
      "Legenda: Skyscraper 2018 WEB-DL + WEBRip + HDRip\n",
      "Detalhes: 6618 downloads, nota 10, enviado por tecsamp em 05/09/2018 - 22:44 \n",
      "Legenda: Elementary.S06E19.HDTV.x264-KILLERS-TBS-ION10-AJP69-BAMBOOZLE\n",
      "Detalhes: 2391 downloads, nota 10, enviado por TheMarines em 05/09/2018 - 14:21 \n",
      "Legenda: About.A.Girl.German.PROPER.2014.DVDRiP.x264-MONOBiLD + AIR23MJ\n",
      "Detalhes: 746 downloads, nota 10, enviado por art_subs em 05/09/2018 - 05:46 \n"
     ]
    }
   ],
   "source": [
    "for destaque in destaques:\n",
    "    print \"Legenda:\",destaque.a.text\n",
    "    print \"Detalhes:\",destaque.findAll(\"p\")[1].text"
   ]
  }
 ],
 "metadata": {
  "kernelspec": {
   "display_name": "Python 2",
   "language": "python",
   "name": "python2"
  },
  "language_info": {
   "codemirror_mode": {
    "name": "ipython",
    "version": 2
   },
   "file_extension": ".py",
   "mimetype": "text/x-python",
   "name": "python",
   "nbconvert_exporter": "python",
   "pygments_lexer": "ipython2",
   "version": "2.7.15rc1"
  }
 },
 "nbformat": 4,
 "nbformat_minor": 2
}
